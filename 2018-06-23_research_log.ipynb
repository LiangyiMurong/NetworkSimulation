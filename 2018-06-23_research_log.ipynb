{
 "cells": [
  {
   "cell_type": "code",
   "execution_count": 1,
   "metadata": {
    "collapsed": true
   },
   "outputs": [],
   "source": [
    "from main import NetworkSimulation\n",
    "import numpy as np"
   ]
  },
  {
   "cell_type": "markdown",
   "metadata": {},
   "source": [
    "# Random Graph correlaiton"
   ]
  },
  {
   "cell_type": "code",
   "execution_count": 149,
   "metadata": {
    "collapsed": true
   },
   "outputs": [],
   "source": [
    "g = NetworkSimulation(graph_type='random', w = 0.2, s = 1)"
   ]
  },
  {
   "cell_type": "code",
   "execution_count": 154,
   "metadata": {
    "scrolled": true
   },
   "outputs": [
    {
     "name": "stderr",
     "output_type": "stream",
     "text": [
      "\n",
      "  0%|          | 0/100 [00:00<?, ?it/s]\n",
      "  1%|          | 1/100 [00:01<02:04,  1.26s/it]\n",
      "  2%|▏         | 2/100 [00:02<02:10,  1.33s/it]\n",
      "  3%|▎         | 3/100 [00:03<02:07,  1.32s/it]\n",
      "  4%|▍         | 4/100 [00:05<02:06,  1.32s/it]\n",
      "  5%|▌         | 5/100 [00:06<02:08,  1.35s/it]\n",
      "  6%|▌         | 6/100 [00:08<02:08,  1.36s/it]\n",
      "  7%|▋         | 7/100 [00:09<02:08,  1.38s/it]\n",
      "  8%|▊         | 8/100 [00:11<02:08,  1.40s/it]\n",
      "  9%|▉         | 9/100 [00:12<02:10,  1.43s/it]\n",
      " 10%|█         | 10/100 [00:14<02:09,  1.44s/it]\n",
      " 11%|█         | 11/100 [00:15<02:07,  1.44s/it]\n",
      " 12%|█▏        | 12/100 [00:17<02:06,  1.43s/it]\n",
      " 13%|█▎        | 13/100 [00:18<02:04,  1.43s/it]\n",
      " 14%|█▍        | 14/100 [00:20<02:04,  1.44s/it]\n",
      " 15%|█▌        | 15/100 [00:21<02:04,  1.46s/it]\n",
      " 16%|█▌        | 16/100 [00:23<02:03,  1.47s/it]\n",
      " 17%|█▋        | 17/100 [00:24<02:01,  1.46s/it]\n",
      " 18%|█▊        | 18/100 [00:26<01:58,  1.45s/it]\n",
      " 19%|█▉        | 19/100 [00:27<01:56,  1.44s/it]\n",
      " 20%|██        | 20/100 [00:28<01:54,  1.43s/it]\n",
      " 21%|██        | 21/100 [00:29<01:51,  1.42s/it]\n",
      " 22%|██▏       | 22/100 [00:31<01:49,  1.41s/it]\n",
      " 23%|██▎       | 23/100 [00:32<01:47,  1.40s/it]\n",
      " 24%|██▍       | 24/100 [00:33<01:45,  1.39s/it]\n",
      " 25%|██▌       | 25/100 [00:34<01:44,  1.39s/it]\n",
      " 26%|██▌       | 26/100 [00:36<01:44,  1.41s/it]\n",
      " 27%|██▋       | 27/100 [00:37<01:42,  1.40s/it]\n",
      " 28%|██▊       | 28/100 [00:39<01:40,  1.40s/it]\n",
      " 29%|██▉       | 29/100 [00:40<01:38,  1.39s/it]\n",
      " 30%|███       | 30/100 [00:41<01:37,  1.39s/it]\n",
      " 31%|███       | 31/100 [00:42<01:35,  1.38s/it]\n",
      " 32%|███▏      | 32/100 [00:44<01:33,  1.38s/it]\n",
      " 33%|███▎      | 33/100 [00:45<01:32,  1.38s/it]\n",
      " 34%|███▍      | 34/100 [00:47<01:31,  1.38s/it]\n",
      " 35%|███▌      | 35/100 [00:48<01:30,  1.39s/it]\n",
      " 36%|███▌      | 36/100 [00:49<01:28,  1.38s/it]\n",
      " 37%|███▋      | 37/100 [00:51<01:27,  1.38s/it]\n",
      " 38%|███▊      | 38/100 [00:52<01:25,  1.38s/it]\n",
      " 39%|███▉      | 39/100 [00:53<01:23,  1.37s/it]\n",
      " 40%|████      | 40/100 [00:54<01:21,  1.37s/it]\n",
      " 41%|████      | 41/100 [00:55<01:20,  1.36s/it]\n",
      " 42%|████▏     | 42/100 [00:57<01:18,  1.36s/it]\n",
      " 43%|████▎     | 43/100 [00:58<01:17,  1.35s/it]\n",
      " 44%|████▍     | 44/100 [00:59<01:15,  1.35s/it]\n",
      " 45%|████▌     | 45/100 [01:00<01:14,  1.35s/it]\n",
      " 46%|████▌     | 46/100 [01:01<01:12,  1.34s/it]\n",
      " 47%|████▋     | 47/100 [01:02<01:10,  1.34s/it]\n",
      " 48%|████▊     | 48/100 [01:04<01:09,  1.34s/it]\n",
      " 49%|████▉     | 49/100 [01:05<01:07,  1.33s/it]\n",
      " 50%|█████     | 50/100 [01:06<01:06,  1.33s/it]\n",
      " 51%|█████     | 51/100 [01:07<01:05,  1.33s/it]\n",
      " 52%|█████▏    | 52/100 [01:08<01:03,  1.32s/it]\n",
      " 53%|█████▎    | 53/100 [01:10<01:02,  1.33s/it]\n",
      " 54%|█████▍    | 54/100 [01:12<01:01,  1.34s/it]\n",
      " 55%|█████▌    | 55/100 [01:13<01:00,  1.34s/it]\n",
      " 56%|█████▌    | 56/100 [01:14<00:58,  1.33s/it]\n",
      " 57%|█████▋    | 57/100 [01:15<00:57,  1.33s/it]\n",
      " 58%|█████▊    | 58/100 [01:16<00:55,  1.32s/it]\n",
      " 59%|█████▉    | 59/100 [01:17<00:53,  1.31s/it]\n",
      " 60%|██████    | 60/100 [01:18<00:52,  1.30s/it]\n",
      " 61%|██████    | 61/100 [01:18<00:50,  1.29s/it]\n",
      " 62%|██████▏   | 62/100 [01:19<00:48,  1.28s/it]\n",
      " 63%|██████▎   | 63/100 [01:19<00:46,  1.27s/it]\n",
      " 64%|██████▍   | 64/100 [01:20<00:45,  1.25s/it]\n",
      " 65%|██████▌   | 65/100 [01:20<00:43,  1.24s/it]\n",
      " 66%|██████▌   | 66/100 [01:21<00:41,  1.23s/it]\n",
      " 67%|██████▋   | 67/100 [01:22<00:40,  1.22s/it]\n",
      " 68%|██████▊   | 68/100 [01:22<00:38,  1.21s/it]\n",
      " 69%|██████▉   | 69/100 [01:23<00:37,  1.21s/it]\n",
      " 70%|███████   | 70/100 [01:23<00:35,  1.20s/it]\n",
      " 71%|███████   | 71/100 [01:24<00:34,  1.19s/it]\n",
      " 72%|███████▏  | 72/100 [01:24<00:33,  1.18s/it]\n",
      " 73%|███████▎  | 73/100 [01:25<00:31,  1.17s/it]\n",
      " 74%|███████▍  | 74/100 [01:26<00:30,  1.16s/it]\n",
      " 75%|███████▌  | 75/100 [01:26<00:28,  1.15s/it]\n",
      " 76%|███████▌  | 76/100 [01:27<00:27,  1.15s/it]\n",
      " 77%|███████▋  | 77/100 [01:27<00:26,  1.14s/it]\n",
      " 78%|███████▊  | 78/100 [01:28<00:24,  1.13s/it]\n",
      " 79%|███████▉  | 79/100 [01:28<00:23,  1.13s/it]\n",
      " 80%|████████  | 80/100 [01:29<00:22,  1.12s/it]\n",
      " 81%|████████  | 81/100 [01:29<00:21,  1.11s/it]\n",
      " 82%|████████▏ | 82/100 [01:30<00:19,  1.10s/it]\n",
      " 83%|████████▎ | 83/100 [01:31<00:18,  1.10s/it]\n",
      " 84%|████████▍ | 84/100 [01:31<00:17,  1.09s/it]\n",
      " 85%|████████▌ | 85/100 [01:32<00:16,  1.09s/it]\n",
      " 86%|████████▌ | 86/100 [01:32<00:15,  1.08s/it]\n",
      " 87%|████████▋ | 87/100 [01:33<00:14,  1.08s/it]\n",
      " 88%|████████▊ | 88/100 [01:34<00:12,  1.07s/it]\n",
      " 89%|████████▉ | 89/100 [01:34<00:11,  1.07s/it]\n",
      " 90%|█████████ | 90/100 [01:35<00:10,  1.06s/it]\n",
      " 91%|█████████ | 91/100 [01:36<00:09,  1.06s/it]\n",
      " 92%|█████████▏| 92/100 [01:36<00:08,  1.05s/it]\n",
      " 93%|█████████▎| 93/100 [01:37<00:07,  1.04s/it]\n",
      " 94%|█████████▍| 94/100 [01:37<00:06,  1.04s/it]\n",
      " 95%|█████████▌| 95/100 [01:38<00:05,  1.04s/it]\n",
      " 96%|█████████▌| 96/100 [01:38<00:04,  1.03s/it]\n",
      " 97%|█████████▋| 97/100 [01:39<00:03,  1.03s/it]\n",
      " 98%|█████████▊| 98/100 [01:40<00:02,  1.02s/it]\n",
      " 99%|█████████▉| 99/100 [01:40<00:01,  1.02s/it]\n",
      "100%|██████████| 100/100 [01:41<00:00,  1.01s/it]\n"
     ]
    },
    {
     "data": {
      "text/plain": [
       "0.69301890989988868"
      ]
     },
     "execution_count": 154,
     "metadata": {},
     "output_type": "execute_result"
    }
   ],
   "source": [
    "g.multiple_simulations()"
   ]
  },
  {
   "cell_type": "code",
   "execution_count": 14,
   "metadata": {},
   "outputs": [],
   "source": [
    "g = NetworkSimulation(graph_type='random', w = 0.8, s = 1)"
   ]
  },
  {
   "cell_type": "code",
   "execution_count": 15,
   "metadata": {
    "scrolled": true
   },
   "outputs": [
    {
     "name": "stderr",
     "output_type": "stream",
     "text": [
      "100%|██████████| 100/100 [00:41<00:00,  2.39it/s]\n"
     ]
    },
    {
     "data": {
      "text/plain": [
       "0.049757508342602896"
      ]
     },
     "execution_count": 15,
     "metadata": {},
     "output_type": "execute_result"
    }
   ],
   "source": [
    "g.multiple_simulations()"
   ]
  },
  {
   "cell_type": "code",
   "execution_count": 18,
   "metadata": {
    "collapsed": true
   },
   "outputs": [],
   "source": [
    "g = NetworkSimulation(graph_type='random', w = 0.2, s = 4)"
   ]
  },
  {
   "cell_type": "code",
   "execution_count": 19,
   "metadata": {
    "scrolled": true
   },
   "outputs": [
    {
     "name": "stderr",
     "output_type": "stream",
     "text": [
      "100%|██████████| 100/100 [00:42<00:00,  2.37it/s]\n"
     ]
    },
    {
     "data": {
      "text/plain": [
       "0.99560400444938824"
      ]
     },
     "execution_count": 19,
     "metadata": {},
     "output_type": "execute_result"
    }
   ],
   "source": [
    "g.multiple_simulations()"
   ]
  },
  {
   "cell_type": "code",
   "execution_count": null,
   "metadata": {
    "collapsed": true
   },
   "outputs": [],
   "source": []
  },
  {
   "cell_type": "markdown",
   "metadata": {},
   "source": [
    "# Dyadic Error Graph correlation, error level = 1x"
   ]
  },
  {
   "cell_type": "code",
   "execution_count": 20,
   "metadata": {
    "collapsed": true
   },
   "outputs": [],
   "source": [
    "g = NetworkSimulation(graph_type='dyadic_error', w = 0.2, s = 1)"
   ]
  },
  {
   "cell_type": "code",
   "execution_count": 21,
   "metadata": {
    "scrolled": true
   },
   "outputs": [
    {
     "name": "stderr",
     "output_type": "stream",
     "text": [
      "100%|██████████| 100/100 [00:47<00:00,  2.09it/s]\n"
     ]
    },
    {
     "data": {
      "text/plain": [
       "0.97887430478309245"
      ]
     },
     "execution_count": 21,
     "metadata": {},
     "output_type": "execute_result"
    }
   ],
   "source": [
    "g.multiple_simulations()"
   ]
  },
  {
   "cell_type": "code",
   "execution_count": 22,
   "metadata": {
    "collapsed": true
   },
   "outputs": [],
   "source": [
    "g = NetworkSimulation(graph_type='dyadic_error', w = 0.8, s = 1)"
   ]
  },
  {
   "cell_type": "code",
   "execution_count": 23,
   "metadata": {
    "scrolled": true
   },
   "outputs": [
    {
     "name": "stderr",
     "output_type": "stream",
     "text": [
      "100%|██████████| 100/100 [00:48<00:00,  2.06it/s]\n"
     ]
    },
    {
     "data": {
      "text/plain": [
       "0.97533259176863196"
      ]
     },
     "execution_count": 23,
     "metadata": {},
     "output_type": "execute_result"
    }
   ],
   "source": [
    "g.multiple_simulations()"
   ]
  },
  {
   "cell_type": "code",
   "execution_count": 24,
   "metadata": {
    "collapsed": true
   },
   "outputs": [],
   "source": [
    "g = NetworkSimulation(graph_type='dyadic_error', w = 0.2, s = 4)"
   ]
  },
  {
   "cell_type": "code",
   "execution_count": 25,
   "metadata": {
    "scrolled": true
   },
   "outputs": [
    {
     "name": "stderr",
     "output_type": "stream",
     "text": [
      "100%|██████████| 100/100 [00:48<00:00,  2.05it/s]\n"
     ]
    },
    {
     "data": {
      "text/plain": [
       "0.99466963292547261"
      ]
     },
     "execution_count": 25,
     "metadata": {},
     "output_type": "execute_result"
    }
   ],
   "source": [
    "g.multiple_simulations()"
   ]
  },
  {
   "cell_type": "code",
   "execution_count": null,
   "metadata": {
    "collapsed": true
   },
   "outputs": [],
   "source": []
  },
  {
   "cell_type": "markdown",
   "metadata": {},
   "source": [
    "# Dyadic Error Graph correlation, error level = 3x"
   ]
  },
  {
   "cell_type": "code",
   "execution_count": 27,
   "metadata": {
    "collapsed": true
   },
   "outputs": [],
   "source": [
    "g = NetworkSimulation(graph_type='dyadic_error', err_level=3, w = 0.2, s = 1)"
   ]
  },
  {
   "cell_type": "code",
   "execution_count": 28,
   "metadata": {
    "scrolled": true
   },
   "outputs": [
    {
     "name": "stderr",
     "output_type": "stream",
     "text": [
      "100%|██████████| 100/100 [00:48<00:00,  2.08it/s]\n"
     ]
    },
    {
     "data": {
      "text/plain": [
       "0.87989321468298121"
      ]
     },
     "execution_count": 28,
     "metadata": {},
     "output_type": "execute_result"
    }
   ],
   "source": [
    "g.multiple_simulations()"
   ]
  },
  {
   "cell_type": "code",
   "execution_count": 29,
   "metadata": {
    "collapsed": true
   },
   "outputs": [],
   "source": [
    "g = NetworkSimulation(graph_type='dyadic_error', err_level=3, w = 0.8, s = 1)"
   ]
  },
  {
   "cell_type": "code",
   "execution_count": 30,
   "metadata": {
    "scrolled": true
   },
   "outputs": [
    {
     "name": "stderr",
     "output_type": "stream",
     "text": [
      "100%|██████████| 100/100 [00:47<00:00,  2.10it/s]\n"
     ]
    },
    {
     "data": {
      "text/plain": [
       "0.85208453837597331"
      ]
     },
     "execution_count": 30,
     "metadata": {},
     "output_type": "execute_result"
    }
   ],
   "source": [
    "g.multiple_simulations()"
   ]
  },
  {
   "cell_type": "code",
   "execution_count": 31,
   "metadata": {
    "collapsed": true
   },
   "outputs": [],
   "source": [
    "g = NetworkSimulation(graph_type='dyadic_error', err_level=3, w = 0.2, s = 4)"
   ]
  },
  {
   "cell_type": "code",
   "execution_count": 32,
   "metadata": {
    "scrolled": true
   },
   "outputs": [
    {
     "name": "stderr",
     "output_type": "stream",
     "text": [
      "100%|██████████| 100/100 [00:47<00:00,  2.10it/s]\n"
     ]
    },
    {
     "data": {
      "text/plain": [
       "0.97414015572858725"
      ]
     },
     "execution_count": 32,
     "metadata": {},
     "output_type": "execute_result"
    }
   ],
   "source": [
    "g.multiple_simulations()"
   ]
  },
  {
   "cell_type": "code",
   "execution_count": null,
   "metadata": {
    "collapsed": true
   },
   "outputs": [],
   "source": []
  },
  {
   "cell_type": "markdown",
   "metadata": {},
   "source": [
    "# Dyadic Error Graph correlation, error level = 5x"
   ]
  },
  {
   "cell_type": "code",
   "execution_count": 33,
   "metadata": {
    "collapsed": true
   },
   "outputs": [],
   "source": [
    "g = NetworkSimulation(graph_type='dyadic_error', err_level=5, w = 0.2, s = 1)"
   ]
  },
  {
   "cell_type": "code",
   "execution_count": 34,
   "metadata": {
    "scrolled": true
   },
   "outputs": [
    {
     "name": "stderr",
     "output_type": "stream",
     "text": [
      "100%|██████████| 100/100 [00:48<00:00,  2.08it/s]\n"
     ]
    },
    {
     "data": {
      "text/plain": [
       "0.76343047830923239"
      ]
     },
     "execution_count": 34,
     "metadata": {},
     "output_type": "execute_result"
    }
   ],
   "source": [
    "g.multiple_simulations()"
   ]
  },
  {
   "cell_type": "code",
   "execution_count": 35,
   "metadata": {
    "collapsed": true
   },
   "outputs": [],
   "source": [
    "g = NetworkSimulation(graph_type='dyadic_error', err_level=5, w = 0.8, s = 1)"
   ]
  },
  {
   "cell_type": "code",
   "execution_count": 36,
   "metadata": {
    "scrolled": true
   },
   "outputs": [
    {
     "name": "stderr",
     "output_type": "stream",
     "text": [
      "100%|██████████| 100/100 [00:48<00:00,  2.06it/s]\n"
     ]
    },
    {
     "data": {
      "text/plain": [
       "0.71530144605116808"
      ]
     },
     "execution_count": 36,
     "metadata": {},
     "output_type": "execute_result"
    }
   ],
   "source": [
    "g.multiple_simulations()"
   ]
  },
  {
   "cell_type": "code",
   "execution_count": 37,
   "metadata": {
    "collapsed": true
   },
   "outputs": [],
   "source": [
    "g = NetworkSimulation(graph_type='dyadic_error', err_level=5, w = 0.2, s = 4)"
   ]
  },
  {
   "cell_type": "code",
   "execution_count": 38,
   "metadata": {
    "scrolled": true
   },
   "outputs": [
    {
     "name": "stderr",
     "output_type": "stream",
     "text": [
      "100%|██████████| 100/100 [00:47<00:00,  2.11it/s]\n"
     ]
    },
    {
     "data": {
      "text/plain": [
       "0.94137931034482758"
      ]
     },
     "execution_count": 38,
     "metadata": {},
     "output_type": "execute_result"
    }
   ],
   "source": [
    "g.multiple_simulations()"
   ]
  },
  {
   "cell_type": "code",
   "execution_count": null,
   "metadata": {
    "collapsed": true
   },
   "outputs": [],
   "source": []
  },
  {
   "cell_type": "markdown",
   "metadata": {},
   "source": [
    "# Collective Error Graph correlation, error level = 1x"
   ]
  },
  {
   "cell_type": "code",
   "execution_count": 39,
   "metadata": {},
   "outputs": [],
   "source": [
    "g = NetworkSimulation(graph_type='collective_error', w = 0.2, s = 1)"
   ]
  },
  {
   "cell_type": "code",
   "execution_count": 40,
   "metadata": {
    "scrolled": true
   },
   "outputs": [
    {
     "name": "stderr",
     "output_type": "stream",
     "text": [
      "100%|██████████| 100/100 [00:43<00:00,  2.32it/s]\n"
     ]
    },
    {
     "data": {
      "text/plain": [
       "0.73441601779755283"
      ]
     },
     "execution_count": 40,
     "metadata": {},
     "output_type": "execute_result"
    }
   ],
   "source": [
    "g.multiple_simulations()"
   ]
  },
  {
   "cell_type": "code",
   "execution_count": 41,
   "metadata": {
    "collapsed": true
   },
   "outputs": [],
   "source": [
    "g = NetworkSimulation(graph_type='collective_error', w = 0.8, s = 1)"
   ]
  },
  {
   "cell_type": "code",
   "execution_count": 42,
   "metadata": {
    "scrolled": true
   },
   "outputs": [
    {
     "name": "stderr",
     "output_type": "stream",
     "text": [
      "100%|██████████| 100/100 [00:43<00:00,  2.29it/s]\n"
     ]
    },
    {
     "data": {
      "text/plain": [
       "0.68978865406006673"
      ]
     },
     "execution_count": 42,
     "metadata": {},
     "output_type": "execute_result"
    }
   ],
   "source": [
    "g.multiple_simulations()"
   ]
  },
  {
   "cell_type": "code",
   "execution_count": 43,
   "metadata": {
    "collapsed": true
   },
   "outputs": [],
   "source": [
    "g = NetworkSimulation(graph_type='collective_error', w = 0.2, s = 4)"
   ]
  },
  {
   "cell_type": "code",
   "execution_count": 44,
   "metadata": {
    "scrolled": true
   },
   "outputs": [
    {
     "name": "stderr",
     "output_type": "stream",
     "text": [
      "100%|██████████| 100/100 [00:42<00:00,  2.33it/s]\n"
     ]
    },
    {
     "data": {
      "text/plain": [
       "0.94538820912124588"
      ]
     },
     "execution_count": 44,
     "metadata": {},
     "output_type": "execute_result"
    }
   ],
   "source": [
    "g.multiple_simulations()"
   ]
  },
  {
   "cell_type": "code",
   "execution_count": null,
   "metadata": {
    "collapsed": true
   },
   "outputs": [],
   "source": []
  },
  {
   "cell_type": "markdown",
   "metadata": {},
   "source": [
    "# Collective Error Graph correlation, error level = 3x"
   ]
  },
  {
   "cell_type": "code",
   "execution_count": 45,
   "metadata": {
    "collapsed": true
   },
   "outputs": [],
   "source": [
    "g = NetworkSimulation(graph_type='collective_error', err_level=3, w = 0.2, s = 1)"
   ]
  },
  {
   "cell_type": "code",
   "execution_count": 46,
   "metadata": {
    "scrolled": true
   },
   "outputs": [
    {
     "name": "stderr",
     "output_type": "stream",
     "text": [
      "100%|██████████| 100/100 [00:41<00:00,  2.39it/s]\n"
     ]
    },
    {
     "data": {
      "text/plain": [
       "0.37482981090100109"
      ]
     },
     "execution_count": 46,
     "metadata": {},
     "output_type": "execute_result"
    }
   ],
   "source": [
    "g.multiple_simulations()"
   ]
  },
  {
   "cell_type": "code",
   "execution_count": 47,
   "metadata": {
    "collapsed": true
   },
   "outputs": [],
   "source": [
    "g = NetworkSimulation(graph_type='collective_error', err_level=3, w = 0.8, s = 1)"
   ]
  },
  {
   "cell_type": "code",
   "execution_count": 48,
   "metadata": {
    "scrolled": true
   },
   "outputs": [
    {
     "name": "stderr",
     "output_type": "stream",
     "text": [
      "100%|██████████| 100/100 [00:41<00:00,  2.39it/s]\n"
     ]
    },
    {
     "data": {
      "text/plain": [
       "0.31419354838709679"
      ]
     },
     "execution_count": 48,
     "metadata": {},
     "output_type": "execute_result"
    }
   ],
   "source": [
    "g.multiple_simulations()"
   ]
  },
  {
   "cell_type": "code",
   "execution_count": 49,
   "metadata": {
    "collapsed": true
   },
   "outputs": [],
   "source": [
    "g = NetworkSimulation(graph_type='collective_error', err_level=3, w = 0.2, s = 4)"
   ]
  },
  {
   "cell_type": "code",
   "execution_count": 50,
   "metadata": {
    "scrolled": true
   },
   "outputs": [
    {
     "name": "stderr",
     "output_type": "stream",
     "text": [
      "100%|██████████| 100/100 [00:41<00:00,  2.38it/s]\n"
     ]
    },
    {
     "data": {
      "text/plain": [
       "0.81802447163515002"
      ]
     },
     "execution_count": 50,
     "metadata": {},
     "output_type": "execute_result"
    }
   ],
   "source": [
    "g.multiple_simulations()"
   ]
  },
  {
   "cell_type": "code",
   "execution_count": null,
   "metadata": {
    "collapsed": true
   },
   "outputs": [],
   "source": []
  },
  {
   "cell_type": "markdown",
   "metadata": {},
   "source": [
    "# Collective Error Graph correlation, error level = 5x"
   ]
  },
  {
   "cell_type": "code",
   "execution_count": 51,
   "metadata": {
    "collapsed": true
   },
   "outputs": [],
   "source": [
    "g = NetworkSimulation(graph_type='collective_error', err_level=5, w = 0.2, s = 1)"
   ]
  },
  {
   "cell_type": "code",
   "execution_count": 52,
   "metadata": {
    "scrolled": true
   },
   "outputs": [
    {
     "name": "stderr",
     "output_type": "stream",
     "text": [
      "100%|██████████| 100/100 [00:42<00:00,  2.36it/s]\n"
     ]
    },
    {
     "data": {
      "text/plain": [
       "0.18921468298109012"
      ]
     },
     "execution_count": 52,
     "metadata": {},
     "output_type": "execute_result"
    }
   ],
   "source": [
    "g.multiple_simulations()"
   ]
  },
  {
   "cell_type": "code",
   "execution_count": 53,
   "metadata": {
    "collapsed": true
   },
   "outputs": [],
   "source": [
    "g = NetworkSimulation(graph_type='collective_error', err_level=5, w = 0.8, s = 1)"
   ]
  },
  {
   "cell_type": "code",
   "execution_count": 54,
   "metadata": {
    "scrolled": true
   },
   "outputs": [
    {
     "name": "stderr",
     "output_type": "stream",
     "text": [
      "100%|██████████| 100/100 [00:42<00:00,  2.36it/s]\n"
     ]
    },
    {
     "data": {
      "text/plain": [
       "0.1806941045606229"
      ]
     },
     "execution_count": 54,
     "metadata": {},
     "output_type": "execute_result"
    }
   ],
   "source": [
    "g.multiple_simulations()"
   ]
  },
  {
   "cell_type": "code",
   "execution_count": 55,
   "metadata": {
    "collapsed": true
   },
   "outputs": [],
   "source": [
    "g = NetworkSimulation(graph_type='collective_error', err_level=5, w = 0.2, s = 4)"
   ]
  },
  {
   "cell_type": "code",
   "execution_count": 56,
   "metadata": {
    "scrolled": true
   },
   "outputs": [
    {
     "name": "stderr",
     "output_type": "stream",
     "text": [
      "100%|██████████| 100/100 [00:42<00:00,  2.35it/s]\n"
     ]
    },
    {
     "data": {
      "text/plain": [
       "0.65528809788654074"
      ]
     },
     "execution_count": 56,
     "metadata": {},
     "output_type": "execute_result"
    }
   ],
   "source": [
    "g.multiple_simulations()"
   ]
  },
  {
   "cell_type": "code",
   "execution_count": null,
   "metadata": {
    "collapsed": true
   },
   "outputs": [],
   "source": []
  },
  {
   "cell_type": "markdown",
   "metadata": {},
   "source": [
    "# Nominal Graph correlation, 2 values"
   ]
  },
  {
   "cell_type": "code",
   "execution_count": 57,
   "metadata": {
    "collapsed": true
   },
   "outputs": [],
   "source": [
    "g = NetworkSimulation(graph_type='nominal', nominal_num=2, w = 0.2, s = 1)"
   ]
  },
  {
   "cell_type": "code",
   "execution_count": 58,
   "metadata": {
    "scrolled": true
   },
   "outputs": [
    {
     "name": "stderr",
     "output_type": "stream",
     "text": [
      "100%|██████████| 100/100 [00:55<00:00,  1.79it/s]\n"
     ]
    },
    {
     "data": {
      "text/plain": [
       "0.50658954393770861"
      ]
     },
     "execution_count": 58,
     "metadata": {},
     "output_type": "execute_result"
    }
   ],
   "source": [
    "g.multiple_simulations()"
   ]
  },
  {
   "cell_type": "code",
   "execution_count": 59,
   "metadata": {
    "collapsed": true
   },
   "outputs": [],
   "source": [
    "g = NetworkSimulation(graph_type='nominal', nominal_num=2, w = 0.8, s = 1)"
   ]
  },
  {
   "cell_type": "code",
   "execution_count": 60,
   "metadata": {
    "scrolled": true
   },
   "outputs": [
    {
     "name": "stderr",
     "output_type": "stream",
     "text": [
      "100%|██████████| 100/100 [00:54<00:00,  1.84it/s]\n"
     ]
    },
    {
     "data": {
      "text/plain": [
       "0.51160400444938814"
      ]
     },
     "execution_count": 60,
     "metadata": {},
     "output_type": "execute_result"
    }
   ],
   "source": [
    "g.multiple_simulations()"
   ]
  },
  {
   "cell_type": "code",
   "execution_count": 61,
   "metadata": {
    "collapsed": true
   },
   "outputs": [],
   "source": [
    "g = NetworkSimulation(graph_type='nominal', nominal_num=2, w = 0.2, s = 4)"
   ]
  },
  {
   "cell_type": "code",
   "execution_count": 62,
   "metadata": {
    "scrolled": true
   },
   "outputs": [
    {
     "name": "stderr",
     "output_type": "stream",
     "text": [
      "100%|██████████| 100/100 [00:55<00:00,  1.81it/s]\n"
     ]
    },
    {
     "data": {
      "text/plain": [
       "0.75355283648498339"
      ]
     },
     "execution_count": 62,
     "metadata": {},
     "output_type": "execute_result"
    }
   ],
   "source": [
    "g.multiple_simulations()"
   ]
  },
  {
   "cell_type": "code",
   "execution_count": null,
   "metadata": {
    "collapsed": true
   },
   "outputs": [],
   "source": []
  },
  {
   "cell_type": "markdown",
   "metadata": {},
   "source": [
    "# Nominal Graph correlation, 3 values"
   ]
  },
  {
   "cell_type": "code",
   "execution_count": 63,
   "metadata": {
    "collapsed": true
   },
   "outputs": [],
   "source": [
    "g = NetworkSimulation(graph_type='nominal', nominal_num=3, w = 0.2, s = 1)"
   ]
  },
  {
   "cell_type": "code",
   "execution_count": 64,
   "metadata": {
    "scrolled": true
   },
   "outputs": [
    {
     "name": "stderr",
     "output_type": "stream",
     "text": [
      "100%|██████████| 100/100 [00:55<00:00,  1.82it/s]\n"
     ]
    },
    {
     "data": {
      "text/plain": [
       "0.3369744160177976"
      ]
     },
     "execution_count": 64,
     "metadata": {},
     "output_type": "execute_result"
    }
   ],
   "source": [
    "g.multiple_simulations()"
   ]
  },
  {
   "cell_type": "code",
   "execution_count": 65,
   "metadata": {
    "collapsed": true
   },
   "outputs": [],
   "source": [
    "g = NetworkSimulation(graph_type='nominal', nominal_num=3, w = 0.8, s = 1)"
   ]
  },
  {
   "cell_type": "code",
   "execution_count": 66,
   "metadata": {
    "scrolled": true
   },
   "outputs": [
    {
     "name": "stderr",
     "output_type": "stream",
     "text": [
      "100%|██████████| 100/100 [00:55<00:00,  1.82it/s]\n"
     ]
    },
    {
     "data": {
      "text/plain": [
       "0.30411123470522805"
      ]
     },
     "execution_count": 66,
     "metadata": {},
     "output_type": "execute_result"
    }
   ],
   "source": [
    "g.multiple_simulations()"
   ]
  },
  {
   "cell_type": "code",
   "execution_count": 67,
   "metadata": {
    "collapsed": true
   },
   "outputs": [],
   "source": [
    "g = NetworkSimulation(graph_type='nominal', nominal_num=3, w = 0.2, s = 4)"
   ]
  },
  {
   "cell_type": "code",
   "execution_count": 68,
   "metadata": {
    "scrolled": false
   },
   "outputs": [
    {
     "name": "stderr",
     "output_type": "stream",
     "text": [
      "100%|██████████| 100/100 [00:55<00:00,  1.81it/s]\n"
     ]
    },
    {
     "data": {
      "text/plain": [
       "0.81648498331479402"
      ]
     },
     "execution_count": 68,
     "metadata": {},
     "output_type": "execute_result"
    }
   ],
   "source": [
    "g.multiple_simulations()"
   ]
  },
  {
   "cell_type": "code",
   "execution_count": null,
   "metadata": {
    "collapsed": true
   },
   "outputs": [],
   "source": []
  },
  {
   "cell_type": "markdown",
   "metadata": {},
   "source": [
    "# Nominal Graph correlation, 4 values"
   ]
  },
  {
   "cell_type": "code",
   "execution_count": 69,
   "metadata": {
    "collapsed": true
   },
   "outputs": [],
   "source": [
    "g = NetworkSimulation(graph_type='nominal', nominal_num=4, w = 0.2, s = 1)"
   ]
  },
  {
   "cell_type": "code",
   "execution_count": 70,
   "metadata": {
    "scrolled": true
   },
   "outputs": [
    {
     "name": "stderr",
     "output_type": "stream",
     "text": [
      "100%|██████████| 100/100 [00:54<00:00,  1.84it/s]\n"
     ]
    },
    {
     "data": {
      "text/plain": [
       "0.25452280311457171"
      ]
     },
     "execution_count": 70,
     "metadata": {},
     "output_type": "execute_result"
    }
   ],
   "source": [
    "g.multiple_simulations()"
   ]
  },
  {
   "cell_type": "code",
   "execution_count": 71,
   "metadata": {
    "collapsed": true
   },
   "outputs": [],
   "source": [
    "g = NetworkSimulation(graph_type='nominal', nominal_num=4, w = 0.8, s = 1)"
   ]
  },
  {
   "cell_type": "code",
   "execution_count": 72,
   "metadata": {
    "scrolled": true
   },
   "outputs": [
    {
     "name": "stderr",
     "output_type": "stream",
     "text": [
      "100%|██████████| 100/100 [00:54<00:00,  1.85it/s]\n"
     ]
    },
    {
     "data": {
      "text/plain": [
       "0.26212680756395995"
      ]
     },
     "execution_count": 72,
     "metadata": {},
     "output_type": "execute_result"
    }
   ],
   "source": [
    "g.multiple_simulations()"
   ]
  },
  {
   "cell_type": "code",
   "execution_count": 73,
   "metadata": {
    "collapsed": true
   },
   "outputs": [],
   "source": [
    "g = NetworkSimulation(graph_type='nominal', nominal_num=4, w = 0.2, s = 4)"
   ]
  },
  {
   "cell_type": "code",
   "execution_count": 74,
   "metadata": {
    "scrolled": true
   },
   "outputs": [
    {
     "name": "stderr",
     "output_type": "stream",
     "text": [
      "100%|██████████| 100/100 [00:53<00:00,  1.87it/s]\n"
     ]
    },
    {
     "data": {
      "text/plain": [
       "0.8374816462736373"
      ]
     },
     "execution_count": 74,
     "metadata": {},
     "output_type": "execute_result"
    }
   ],
   "source": [
    "g.multiple_simulations()"
   ]
  },
  {
   "cell_type": "code",
   "execution_count": null,
   "metadata": {
    "collapsed": true
   },
   "outputs": [],
   "source": []
  },
  {
   "cell_type": "code",
   "execution_count": null,
   "metadata": {
    "collapsed": true
   },
   "outputs": [],
   "source": []
  },
  {
   "cell_type": "markdown",
   "metadata": {},
   "source": [
    "# Random Graph with Self-fulfilling correlation"
   ]
  },
  {
   "cell_type": "code",
   "execution_count": 75,
   "metadata": {
    "collapsed": true
   },
   "outputs": [],
   "source": [
    "g = NetworkSimulation(graph_type='random', self_fulfilling=True, w = 0.2, s = 1)"
   ]
  },
  {
   "cell_type": "code",
   "execution_count": 76,
   "metadata": {
    "scrolled": true
   },
   "outputs": [
    {
     "name": "stderr",
     "output_type": "stream",
     "text": [
      "100%|██████████| 100/100 [00:54<00:00,  1.84it/s]\n"
     ]
    },
    {
     "data": {
      "text/plain": [
       "0.3331523915461625"
      ]
     },
     "execution_count": 76,
     "metadata": {},
     "output_type": "execute_result"
    }
   ],
   "source": [
    "g.multiple_simulations()"
   ]
  },
  {
   "cell_type": "code",
   "execution_count": 77,
   "metadata": {
    "collapsed": true
   },
   "outputs": [],
   "source": [
    "g = NetworkSimulation(graph_type='random', self_fulfilling=True, w = 0.8, s = 1)"
   ]
  },
  {
   "cell_type": "code",
   "execution_count": 78,
   "metadata": {
    "scrolled": true
   },
   "outputs": [
    {
     "name": "stderr",
     "output_type": "stream",
     "text": [
      "100%|██████████| 100/100 [00:54<00:00,  1.84it/s]\n"
     ]
    },
    {
     "data": {
      "text/plain": [
       "0.023310344827586205"
      ]
     },
     "execution_count": 78,
     "metadata": {},
     "output_type": "execute_result"
    }
   ],
   "source": [
    "g.multiple_simulations()"
   ]
  },
  {
   "cell_type": "code",
   "execution_count": 79,
   "metadata": {
    "collapsed": true
   },
   "outputs": [],
   "source": [
    "g = NetworkSimulation(graph_type='random', self_fulfilling=True, w = 0.2, s = 4)"
   ]
  },
  {
   "cell_type": "code",
   "execution_count": 80,
   "metadata": {
    "scrolled": true
   },
   "outputs": [
    {
     "name": "stderr",
     "output_type": "stream",
     "text": [
      "100%|██████████| 100/100 [00:53<00:00,  1.85it/s]\n"
     ]
    },
    {
     "data": {
      "text/plain": [
       "0.91485650723025558"
      ]
     },
     "execution_count": 80,
     "metadata": {},
     "output_type": "execute_result"
    }
   ],
   "source": [
    "g.multiple_simulations()"
   ]
  },
  {
   "cell_type": "code",
   "execution_count": null,
   "metadata": {
    "collapsed": true
   },
   "outputs": [],
   "source": []
  },
  {
   "cell_type": "markdown",
   "metadata": {},
   "source": [
    "# Random Graph with different h"
   ]
  },
  {
   "cell_type": "code",
   "execution_count": 81,
   "metadata": {
    "collapsed": true
   },
   "outputs": [],
   "source": [
    "g = NetworkSimulation(graph_type='random', h=0.8, w = 0.2, s = 1)"
   ]
  },
  {
   "cell_type": "code",
   "execution_count": 82,
   "metadata": {
    "scrolled": true
   },
   "outputs": [
    {
     "name": "stderr",
     "output_type": "stream",
     "text": [
      "100%|██████████| 100/100 [00:34<00:00,  2.92it/s]\n"
     ]
    },
    {
     "data": {
      "text/plain": [
       "0.49241379310344824"
      ]
     },
     "execution_count": 82,
     "metadata": {},
     "output_type": "execute_result"
    }
   ],
   "source": [
    "g.multiple_simulations()"
   ]
  },
  {
   "cell_type": "code",
   "execution_count": 83,
   "metadata": {
    "collapsed": true
   },
   "outputs": [],
   "source": [
    "g = NetworkSimulation(graph_type='random', h=0.8, w = 0.8, s = 1)"
   ]
  },
  {
   "cell_type": "code",
   "execution_count": 84,
   "metadata": {
    "scrolled": true
   },
   "outputs": [
    {
     "name": "stderr",
     "output_type": "stream",
     "text": [
      "100%|██████████| 100/100 [00:34<00:00,  2.86it/s]\n"
     ]
    },
    {
     "data": {
      "text/plain": [
       "-0.017810901001112354"
      ]
     },
     "execution_count": 84,
     "metadata": {},
     "output_type": "execute_result"
    }
   ],
   "source": [
    "g.multiple_simulations()"
   ]
  },
  {
   "cell_type": "code",
   "execution_count": 85,
   "metadata": {
    "collapsed": true
   },
   "outputs": [],
   "source": [
    "g = NetworkSimulation(graph_type='random', h=0.8, w = 0.2, s = 4)"
   ]
  },
  {
   "cell_type": "code",
   "execution_count": 86,
   "metadata": {
    "scrolled": true
   },
   "outputs": [
    {
     "name": "stderr",
     "output_type": "stream",
     "text": [
      "100%|██████████| 100/100 [00:36<00:00,  2.74it/s]\n"
     ]
    },
    {
     "data": {
      "text/plain": [
       "0.62030255839822024"
      ]
     },
     "execution_count": 86,
     "metadata": {},
     "output_type": "execute_result"
    }
   ],
   "source": [
    "g.multiple_simulations()"
   ]
  },
  {
   "cell_type": "code",
   "execution_count": null,
   "metadata": {
    "collapsed": true
   },
   "outputs": [],
   "source": []
  },
  {
   "cell_type": "code",
   "execution_count": 87,
   "metadata": {
    "collapsed": true
   },
   "outputs": [],
   "source": [
    "g = NetworkSimulation(graph_type='random', h=0.5, w = 0.2, s = 1)"
   ]
  },
  {
   "cell_type": "code",
   "execution_count": 88,
   "metadata": {
    "scrolled": true
   },
   "outputs": [
    {
     "name": "stderr",
     "output_type": "stream",
     "text": [
      "100%|██████████| 100/100 [00:33<00:00,  2.98it/s]\n"
     ]
    },
    {
     "data": {
      "text/plain": [
       "0.4619755283648499"
      ]
     },
     "execution_count": 88,
     "metadata": {},
     "output_type": "execute_result"
    }
   ],
   "source": [
    "g.multiple_simulations()"
   ]
  },
  {
   "cell_type": "code",
   "execution_count": 89,
   "metadata": {
    "collapsed": true
   },
   "outputs": [],
   "source": [
    "g = NetworkSimulation(graph_type='random', h=0.5, w = 0.8, s = 1)"
   ]
  },
  {
   "cell_type": "code",
   "execution_count": 90,
   "metadata": {
    "scrolled": true
   },
   "outputs": [
    {
     "name": "stderr",
     "output_type": "stream",
     "text": [
      "100%|██████████| 100/100 [00:33<00:00,  2.95it/s]\n"
     ]
    },
    {
     "data": {
      "text/plain": [
       "0.059862068965517226"
      ]
     },
     "execution_count": 90,
     "metadata": {},
     "output_type": "execute_result"
    }
   ],
   "source": [
    "g.multiple_simulations()"
   ]
  },
  {
   "cell_type": "code",
   "execution_count": 91,
   "metadata": {
    "collapsed": true
   },
   "outputs": [],
   "source": [
    "g = NetworkSimulation(graph_type='random', h=0.5, w = 0.2, s = 4)"
   ]
  },
  {
   "cell_type": "code",
   "execution_count": 92,
   "metadata": {
    "scrolled": true
   },
   "outputs": [
    {
     "name": "stderr",
     "output_type": "stream",
     "text": [
      "100%|██████████| 100/100 [00:34<00:00,  2.90it/s]\n"
     ]
    },
    {
     "data": {
      "text/plain": [
       "0.47407341490545052"
      ]
     },
     "execution_count": 92,
     "metadata": {},
     "output_type": "execute_result"
    }
   ],
   "source": [
    "g.multiple_simulations()"
   ]
  },
  {
   "cell_type": "code",
   "execution_count": null,
   "metadata": {
    "collapsed": true
   },
   "outputs": [],
   "source": []
  },
  {
   "cell_type": "code",
   "execution_count": 93,
   "metadata": {
    "collapsed": true
   },
   "outputs": [],
   "source": [
    "from formula import *"
   ]
  },
  {
   "cell_type": "code",
   "execution_count": 94,
   "metadata": {},
   "outputs": [
    {
     "data": {
      "text/plain": [
       "OrderedDict([('SETUP', <networkx.classes.digraph.DiGraph at 0x29a6a149a58>),\n",
       "             ('ROUND 0', <networkx.classes.digraph.DiGraph at 0x29a6a1498d0>),\n",
       "             ('ROUND 1', <networkx.classes.digraph.DiGraph at 0x29a6a1496d8>),\n",
       "             ('ROUND 2', <networkx.classes.digraph.DiGraph at 0x29a6a1495c0>),\n",
       "             ('ROUND 3', <networkx.classes.digraph.DiGraph at 0x29a6a149b00>),\n",
       "             ('ROUND 4', <networkx.classes.digraph.DiGraph at 0x29a6a149390>),\n",
       "             ('ROUND 5', <networkx.classes.digraph.DiGraph at 0x29a6a1496a0>),\n",
       "             ('ROUND 6', <networkx.classes.digraph.DiGraph at 0x29a6a149ba8>),\n",
       "             ('ROUND 7', <networkx.classes.digraph.DiGraph at 0x29a6a149860>),\n",
       "             ('ROUND 8', <networkx.classes.digraph.DiGraph at 0x29a6a149c18>),\n",
       "             ('ROUND 9', <networkx.classes.digraph.DiGraph at 0x29a6a149400>),\n",
       "             ('ROUND 10', <networkx.classes.digraph.DiGraph at 0x29a6a149748>),\n",
       "             ('ROUND 11', <networkx.classes.digraph.DiGraph at 0x29a6a149be0>),\n",
       "             ('ROUND 12', <networkx.classes.digraph.DiGraph at 0x29a6a468ef0>),\n",
       "             ('ROUND 13', <networkx.classes.digraph.DiGraph at 0x29a6a468b70>),\n",
       "             ('ROUND 14', <networkx.classes.digraph.DiGraph at 0x29a6a468630>),\n",
       "             ('ROUND 15', <networkx.classes.digraph.DiGraph at 0x29a6a468668>),\n",
       "             ('ROUND 16', <networkx.classes.digraph.DiGraph at 0x29a6a468f28>),\n",
       "             ('ROUND 17', <networkx.classes.digraph.DiGraph at 0x29a6a468f60>),\n",
       "             ('ROUND 18', <networkx.classes.digraph.DiGraph at 0x29a6a468400>),\n",
       "             ('ROUND 19',\n",
       "              <networkx.classes.digraph.DiGraph at 0x29a6a468a90>)])"
      ]
     },
     "execution_count": 94,
     "metadata": {},
     "output_type": "execute_result"
    }
   ],
   "source": [
    "g.graphs"
   ]
  },
  {
   "cell_type": "code",
   "execution_count": 98,
   "metadata": {
    "scrolled": false
   },
   "outputs": [
    {
     "name": "stdout",
     "output_type": "stream",
     "text": [
      "==============================STATUS QUALITY REORDERING============================================>\n",
      "0.7293786082004415\n",
      "==============================STATUS QUALITY GAP===================================================>\n",
      "5.526270539288422\n",
      "==============================STATUS QUALITY REORDERING============================================>\n",
      "0.989823137033\n",
      "==============================STATUS QUALITY GAP===================================================>\n",
      "1.00614091439\n",
      "==============================STATUS QUALITY REORDERING============================================>\n",
      "0.99143796363\n",
      "==============================STATUS QUALITY GAP===================================================>\n",
      "0.935414708954\n",
      "==============================STATUS QUALITY REORDERING============================================>\n",
      "0.992074277269\n",
      "==============================STATUS QUALITY GAP===================================================>\n",
      "0.917858085261\n",
      "==============================STATUS QUALITY REORDERING============================================>\n",
      "0.992617458825\n",
      "==============================STATUS QUALITY GAP===================================================>\n",
      "0.889483758965\n",
      "==============================STATUS QUALITY REORDERING============================================>\n",
      "0.992931178823\n",
      "==============================STATUS QUALITY GAP===================================================>\n",
      "0.872009199461\n",
      "==============================STATUS QUALITY REORDERING============================================>\n",
      "0.993084197427\n",
      "==============================STATUS QUALITY GAP===================================================>\n",
      "0.863855046182\n",
      "==============================STATUS QUALITY REORDERING============================================>\n",
      "0.993379387434\n",
      "==============================STATUS QUALITY GAP===================================================>\n",
      "0.839640597108\n",
      "==============================STATUS QUALITY REORDERING============================================>\n",
      "0.993647874395\n",
      "==============================STATUS QUALITY GAP===================================================>\n",
      "0.82585081475\n",
      "==============================STATUS QUALITY REORDERING============================================>\n",
      "0.993752911091\n",
      "==============================STATUS QUALITY GAP===================================================>\n",
      "0.820887720219\n",
      "==============================STATUS QUALITY REORDERING============================================>\n",
      "0.993815564652\n",
      "==============================STATUS QUALITY GAP===================================================>\n",
      "0.81727776345\n",
      "==============================STATUS QUALITY REORDERING============================================>\n",
      "0.993887551906\n",
      "==============================STATUS QUALITY GAP===================================================>\n",
      "0.810518203847\n",
      "==============================STATUS QUALITY REORDERING============================================>\n",
      "0.99390940086\n",
      "==============================STATUS QUALITY GAP===================================================>\n",
      "0.808343632694\n",
      "==============================STATUS QUALITY REORDERING============================================>\n",
      "0.99393031414\n",
      "==============================STATUS QUALITY GAP===================================================>\n",
      "0.806037553802\n",
      "==============================STATUS QUALITY REORDERING============================================>\n",
      "0.993940348691\n",
      "==============================STATUS QUALITY GAP===================================================>\n",
      "0.805011928273\n",
      "==============================STATUS QUALITY REORDERING============================================>\n",
      "0.99394513235\n",
      "==============================STATUS QUALITY GAP===================================================>\n",
      "0.804578131714\n",
      "==============================STATUS QUALITY REORDERING============================================>\n",
      "0.993948215961\n",
      "==============================STATUS QUALITY GAP===================================================>\n",
      "0.80432742461\n",
      "==============================STATUS QUALITY REORDERING============================================>\n",
      "0.993949817137\n",
      "==============================STATUS QUALITY GAP===================================================>\n",
      "0.804201230753\n",
      "==============================STATUS QUALITY REORDERING============================================>\n",
      "0.993950855463\n",
      "==============================STATUS QUALITY GAP===================================================>\n",
      "0.804121651642\n",
      "==============================STATUS QUALITY REORDERING============================================>\n",
      "0.993951432136\n",
      "==============================STATUS QUALITY GAP===================================================>\n",
      "0.804077667229\n",
      "==============================STATUS QUALITY REORDERING============================================>\n",
      "0.993951801403\n",
      "==============================STATUS QUALITY GAP===================================================>\n",
      "0.804049724235\n",
      "==============================GINI CORRELATION=====================================================>\n",
      "0.344444442069\n"
     ]
    }
   ],
   "source": [
    "for each_graph in g.graphs:\n",
    "    print('==============================STATUS QUALITY REORDERING============================================>')\n",
    "    print(status_quality_reordering(g.graphs[each_graph]))\n",
    "    print('==============================STATUS QUALITY GAP===================================================>')\n",
    "    print(status_quality_gap(g.graphs[each_graph]))\n",
    "print('==============================GINI CORRELATION=====================================================>')\n",
    "print(gini(g.graphs['ROUND 19']))"
   ]
  }
 ],
 "metadata": {
  "kernelspec": {
   "display_name": "Python 3",
   "language": "python",
   "name": "python3"
  },
  "language_info": {
   "codemirror_mode": {
    "name": "ipython",
    "version": 3
   },
   "file_extension": ".py",
   "mimetype": "text/x-python",
   "name": "python",
   "nbconvert_exporter": "python",
   "pygments_lexer": "ipython3",
   "version": "3.6.3"
  }
 },
 "nbformat": 4,
 "nbformat_minor": 2
}
